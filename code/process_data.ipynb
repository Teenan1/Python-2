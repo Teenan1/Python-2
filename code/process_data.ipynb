{
 "cells": [
  {
   "cell_type": "code",
   "execution_count": 3,
   "metadata": {},
   "outputs": [],
   "source": [
    "import pandas as pd"
   ]
  },
  {
   "cell_type": "code",
   "execution_count": 4,
   "metadata": {},
   "outputs": [],
   "source": [
    "df = pd.read_csv(\"../data/Dataset-Cleaned.csv\",dtype = {'id_str':object,'in_reply_to_user_id_str':object,'from_user_id_str':object,'in_reply_to_status_id_str':object})"
   ]
  },
  {
   "cell_type": "code",
   "execution_count": 5,
   "metadata": {},
   "outputs": [
    {
     "name": "stdout",
     "output_type": "stream",
     "text": [
      "77267\n"
     ]
    }
   ],
   "source": [
    "num_tweets = len(df)\n",
    "print(num_tweets)"
   ]
  },
  {
   "cell_type": "code",
   "execution_count": 6,
   "metadata": {},
   "outputs": [
    {
     "name": "stdout",
     "output_type": "stream",
     "text": [
      "There are 1185 replies in the dataset.\n"
     ]
    }
   ],
   "source": [
    "num_replies = len(df[df.in_reply_to_status_id_str.notnull()])\n",
    "print(\"There are %d replies in the dataset.\" % num_replies)"
   ]
  },
  {
   "cell_type": "code",
   "execution_count": 7,
   "metadata": {},
   "outputs": [
    {
     "name": "stdout",
     "output_type": "stream",
     "text": [
      "There are 60278 retweets in the dataset.\n"
     ]
    }
   ],
   "source": [
    "num_retweets = len(df[df.text.str.contains('RT @')])\n",
    "print(\"There are %d retweets in the dataset.\" % num_retweets)"
   ]
  },
  {
   "cell_type": "code",
   "execution_count": 8,
   "metadata": {},
   "outputs": [
    {
     "name": "stdout",
     "output_type": "stream",
     "text": [
      "There are 50195 users in the dataset.\n"
     ]
    }
   ],
   "source": [
    "num_users = len(df['from_user'].unique())\n",
    "print(\"There are %d users in the dataset.\" % num_users)"
   ]
  },
  {
   "cell_type": "code",
   "execution_count": 9,
   "metadata": {},
   "outputs": [
    {
     "name": "stdout",
     "output_type": "stream",
     "text": [
      "Each user posted an average of 1.539337 tweets\n"
     ]
    }
   ],
   "source": [
    "avg_tweets = num_tweets / num_users\n",
    "print(\"Each user posted an average of %f tweets\" % avg_tweets)"
   ]
  },
  {
   "cell_type": "code",
   "execution_count": 10,
   "metadata": {},
   "outputs": [
    {
     "name": "stdout",
     "output_type": "stream",
     "text": [
      "Each user retweeted an average of 1.200877 tweets\n"
     ]
    }
   ],
   "source": [
    "avg_retweets = num_retweets / num_users\n",
    "print(\"Each user retweeted an average of %f tweets\" % avg_retweets)"
   ]
  },
  {
   "cell_type": "code",
   "execution_count": 11,
   "metadata": {},
   "outputs": [
    {
     "name": "stdout",
     "output_type": "stream",
     "text": [
      "Each user replied to a tweet an average of 0.023608 times\n"
     ]
    }
   ],
   "source": [
    "avg_replies = num_replies / num_users\n",
    "print(\"Each user replied to a tweet an average of %f times\" % avg_replies)"
   ]
  },
  {
   "cell_type": "code",
   "execution_count": 12,
   "metadata": {},
   "outputs": [],
   "source": [
    "df.groupby(by = 'entities_str')"
   ]
  },
  {
   "cell_type": "code",
   "execution_count": 13,
   "metadata": {},
   "outputs": [],
   "source": [
    "import matplotlib.pyplot as plt"
   ]
  },
  {
   "cell_type": "code",
   "execution_count": 14,
   "metadata": {},
   "outputs": [
    {
     "data": {
      "text/plain": [
       "<matplotlib.axes._subplots.AxesSubplot at 0x7f00e6482cf8>"
      ]
     },
     "execution_count": 14,
     "metadata": {},
     "output_type": "execute_result"
    }
   ],
   "source": [
    "df.plot()"
   ]
  },
  {
   "cell_type": "code",
   "execution_count": 24,
   "metadata": {},
   "outputs": [
    {
     "ename": "ModuleNotFoundError",
     "evalue": "No module named 'StringIO'",
     "output_type": "error",
     "traceback": [
      "\u001b[0;31m---------------------------------------------------------------------------\u001b[0m",
      "\u001b[0;31mModuleNotFoundError\u001b[0m                       Traceback (most recent call last)",
      "\u001b[0;32m<ipython-input-24-23b9443da455>\u001b[0m in \u001b[0;36m<module>\u001b[0;34m()\u001b[0m\n\u001b[0;32m----> 1\u001b[0;31m \u001b[0;32mimport\u001b[0m \u001b[0mStringIO\u001b[0m \u001b[0;32mas\u001b[0m \u001b[0mio\u001b[0m\u001b[0;34m\u001b[0m\u001b[0m\n\u001b[0m",
      "\u001b[0;31mModuleNotFoundError\u001b[0m: No module named 'StringIO'"
     ]
    }
   ],
   "source": [
    "import StringIO as io"
   ]
  },
  {
   "cell_type": "code",
   "execution_count": 25,
   "metadata": {},
   "outputs": [
    {
     "ename": "NameError",
     "evalue": "name 'json' is not defined",
     "output_type": "error",
     "traceback": [
      "\u001b[0;31m---------------------------------------------------------------------------\u001b[0m",
      "\u001b[0;31mNameError\u001b[0m                                 Traceback (most recent call last)",
      "\u001b[0;32m<ipython-input-25-584d40073f0d>\u001b[0m in \u001b[0;36m<module>\u001b[0;34m()\u001b[0m\n\u001b[0;32m----> 1\u001b[0;31m \u001b[0mentities_list\u001b[0m \u001b[0;34m=\u001b[0m \u001b[0mjson\u001b[0m\u001b[0;34m.\u001b[0m\u001b[0mloads\u001b[0m\u001b[0;34m(\u001b[0m\u001b[0mdf\u001b[0m\u001b[0;34m[\u001b[0m\u001b[0;34m'entities_str'\u001b[0m\u001b[0;34m]\u001b[0m\u001b[0;34m)\u001b[0m\u001b[0;34m\u001b[0m\u001b[0m\n\u001b[0m",
      "\u001b[0;31mNameError\u001b[0m: name 'json' is not defined"
     ]
    }
   ],
   "source": [
    "entities_list = json.loads(df['entities_str'])"
   ]
  },
  {
   "cell_type": "code",
   "execution_count": 22,
   "metadata": {},
   "outputs": [
    {
     "data": {
      "text/plain": [
       "0        {\"hashtags\":[{\"text\":\"GUERRIERO\",\"indices\":[44...\n",
       "1        {\"hashtags\":[{\"text\":\"CometLanding\",\"indices\":...\n",
       "2        {\"hashtags\":[{\"text\":\"CometLanding\",\"indices\":...\n",
       "3        {\"hashtags\":[{\"text\":\"cometlanding\",\"indices\":...\n",
       "4        {\"hashtags\":[{\"text\":\"CometLanding\",\"indices\":...\n",
       "5        {\"hashtags\":[{\"text\":\"CometLanding\",\"indices\":...\n",
       "6        {\"hashtags\":[{\"text\":\"CometLanding\",\"indices\":...\n",
       "7        {\"hashtags\":[{\"text\":\"CometLanding\",\"indices\":...\n",
       "8        {\"hashtags\":[{\"text\":\"CometLanding\",\"indices\":...\n",
       "9        {\"hashtags\":[{\"text\":\"CometLanding\",\"indices\":...\n",
       "10       {\"hashtags\":[{\"text\":\"CometLanding\",\"indices\":...\n",
       "11       {\"hashtags\":[{\"text\":\"CometLanding\",\"indices\":...\n",
       "12       {\"hashtags\":[{\"text\":\"CometLanding\",\"indices\":...\n",
       "13       {\"hashtags\":[{\"text\":\"cometlanding\",\"indices\":...\n",
       "14       {\"hashtags\":[{\"text\":\"SEP\",\"indices\":[30,34]},...\n",
       "15       {\"hashtags\":[{\"text\":\"cometlanding\",\"indices\":...\n",
       "16       {\"hashtags\":[{\"text\":\"probe\",\"indices\":[33,39]...\n",
       "17       {\"hashtags\":[{\"text\":\"CometLanding\",\"indices\":...\n",
       "18       {\"hashtags\":[{\"text\":\"Cometlanding\",\"indices\":...\n",
       "19       {\"hashtags\":[{\"text\":\"CometLanding\",\"indices\":...\n",
       "20       {\"hashtags\":[{\"text\":\"SEP\",\"indices\":[40,44]},...\n",
       "21       {\"hashtags\":[{\"text\":\"CometLanding\",\"indices\":...\n",
       "22       {\"hashtags\":[{\"text\":\"CometLanding\",\"indices\":...\n",
       "23       {\"hashtags\":[{\"text\":\"CometLanding\",\"indices\":...\n",
       "24       {\"hashtags\":[{\"text\":\"CometLanding\",\"indices\":...\n",
       "25       {\"hashtags\":[{\"text\":\"Philae\",\"indices\":[13,20...\n",
       "26       {\"hashtags\":[{\"text\":\"CometLanding\",\"indices\":...\n",
       "27       {\"hashtags\":[{\"text\":\"CometLanding\",\"indices\":...\n",
       "28       {\"hashtags\":[{\"text\":\"CometLanding\",\"indices\":...\n",
       "29       {\"hashtags\":[{\"text\":\"cometlanding\",\"indices\":...\n",
       "                               ...                        \n",
       "77237    {\"hashtags\":[{\"text\":\"Orion\",\"indices\":[19,25]...\n",
       "77238    {\"hashtags\":[{\"text\":\"cometlanding\",\"indices\":...\n",
       "77239    {\"hashtags\":[{\"text\":\"Livestream\",\"indices\":[0...\n",
       "77240    {\"hashtags\":[{\"text\":\"lifeonacomet\",\"indices\":...\n",
       "77241    {\"hashtags\":[{\"text\":\"SongsForPhilaeToSleepBy\"...\n",
       "77242    {\"hashtags\":[{\"text\":\"CometLanding\",\"indices\":...\n",
       "77243    {\"hashtags\":[{\"text\":\"CometLanding\",\"indices\":...\n",
       "77244    {\"hashtags\":[{\"text\":\"CometLanding\",\"indices\":...\n",
       "77245    {\"hashtags\":[{\"text\":\"CometLanding\",\"indices\":...\n",
       "77246    {\"hashtags\":[{\"text\":\"Orion\",\"indices\":[104,11...\n",
       "77247    {\"hashtags\":[{\"text\":\"CometLanding\",\"indices\":...\n",
       "77248    {\"hashtags\":[{\"text\":\"CometLanding\",\"indices\":...\n",
       "77249    {\"hashtags\":[{\"text\":\"CometLanding\",\"indices\":...\n",
       "77250    {\"hashtags\":[{\"text\":\"Orion\",\"indices\":[32,38]...\n",
       "77251    {\"hashtags\":[{\"text\":\"STEM\",\"indices\":[99,104]...\n",
       "77252    {\"hashtags\":[{\"text\":\"Rosetta\",\"indices\":[58,6...\n",
       "77253    {\"hashtags\":[{\"text\":\"CometLanding\",\"indices\":...\n",
       "77254    {\"hashtags\":[{\"text\":\"CometLanding\",\"indices\":...\n",
       "77255    {\"hashtags\":[{\"text\":\"cometlanding\",\"indices\":...\n",
       "77256    {\"hashtags\":[{\"text\":\"CometLanding\",\"indices\":...\n",
       "77257    {\"hashtags\":[{\"text\":\"MiniMansbridge\",\"indices...\n",
       "77258    {\"hashtags\":[{\"text\":\"Philae\",\"indices\":[49,56...\n",
       "77259    {\"hashtags\":[{\"text\":\"MiniMansbridge\",\"indices...\n",
       "77260    {\"hashtags\":[{\"text\":\"cometlanding\",\"indices\":...\n",
       "77261    {\"hashtags\":[{\"text\":\"CometLanding\",\"indices\":...\n",
       "77262    {\"hashtags\":[{\"text\":\"MiniMansbridge\",\"indices...\n",
       "77263    {\"hashtags\":[{\"text\":\"CometLanding\",\"indices\":...\n",
       "77264    {\"hashtags\":[{\"text\":\"CometLanding\",\"indices\":...\n",
       "77265    {\"hashtags\":[{\"text\":\"CometLanding\",\"indices\":...\n",
       "77266    {\"hashtags\":[{\"text\":\"Philae\",\"indices\":[49,56...\n",
       "Name: entities_str, Length: 77267, dtype: object"
      ]
     },
     "execution_count": 22,
     "metadata": {},
     "output_type": "execute_result"
    }
   ],
   "source": [
    "entities_list"
   ]
  },
  {
   "cell_type": "code",
   "execution_count": null,
   "metadata": {},
   "outputs": [],
   "source": []
  }
 ],
 "metadata": {
  "kernelspec": {
   "display_name": "Python 3",
   "language": "python",
   "name": "python3"
  },
  "language_info": {
   "codemirror_mode": {
    "name": "ipython",
    "version": 3
   },
   "file_extension": ".py",
   "mimetype": "text/x-python",
   "name": "python",
   "nbconvert_exporter": "python",
   "pygments_lexer": "ipython3",
   "version": "3.6.5"
  }
 },
 "nbformat": 4,
 "nbformat_minor": 1
}
