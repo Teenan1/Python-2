{
 "cells": [
  {
   "cell_type": "code",
   "execution_count": 1,
   "metadata": {},
   "outputs": [],
   "source": [
    "import pandas as pd"
   ]
  },
  {
   "cell_type": "code",
   "execution_count": 4,
   "metadata": {},
   "outputs": [],
   "source": [
    "df = pd.read_csv(\"../data/Dataset-Cleaned.csv\",dtype = {'id_str':object,'in_reply_to_user_id_str':object,'from_user_id_str':object,'in_reply_to_status_id_str':object})"
   ]
  },
  {
   "cell_type": "code",
   "execution_count": 5,
   "metadata": {},
   "outputs": [
    {
     "name": "stdout",
     "output_type": "stream",
     "text": [
      "77267\n"
     ]
    }
   ],
   "source": [
    "num_tweets = len(df)\n",
    "print(num_tweets)"
   ]
  },
  {
   "cell_type": "code",
   "execution_count": 6,
   "metadata": {},
   "outputs": [
    {
     "name": "stdout",
     "output_type": "stream",
     "text": [
      "There are 1185 replies in the dataset.\n"
     ]
    }
   ],
   "source": [
    "num_replies = len(df[df.in_reply_to_status_id_str.notnull()])\n",
    "print(\"There are %d replies in the dataset.\" % num_replies)"
   ]
  },
  {
   "cell_type": "code",
   "execution_count": 7,
   "metadata": {},
   "outputs": [
    {
     "name": "stdout",
     "output_type": "stream",
     "text": [
      "There are 60278 retweets in the dataset.\n"
     ]
    }
   ],
   "source": [
    "num_retweets = len(df[df.text.str.contains('RT @')])\n",
    "print(\"There are %d retweets in the dataset.\" % num_retweets)"
   ]
  },
  {
   "cell_type": "code",
   "execution_count": 8,
   "metadata": {},
   "outputs": [
    {
     "name": "stdout",
     "output_type": "stream",
     "text": [
      "There are 50195 users in the dataset.\n"
     ]
    }
   ],
   "source": [
    "num_users = len(df['from_user'].unique())\n",
    "print(\"There are %d users in the dataset.\" % num_users)"
   ]
  },
  {
   "cell_type": "code",
   "execution_count": 9,
   "metadata": {},
   "outputs": [
    {
     "name": "stdout",
     "output_type": "stream",
     "text": [
      "Each user posted an average of 1.539337 tweets\n"
     ]
    }
   ],
   "source": [
    "avg_tweets = num_tweets / num_users\n",
    "print(\"Each user posted an average of %f tweets\" % avg_tweets)"
   ]
  },
  {
   "cell_type": "code",
   "execution_count": 10,
   "metadata": {},
   "outputs": [
    {
     "name": "stdout",
     "output_type": "stream",
     "text": [
      "Each user retweeted an average of 1.200877 tweets\n"
     ]
    }
   ],
   "source": [
    "avg_retweets = num_retweets / num_users\n",
    "print(\"Each user retweeted an average of %f tweets\" % avg_retweets)"
   ]
  },
  {
   "cell_type": "code",
   "execution_count": 13,
   "metadata": {},
   "outputs": [
    {
     "name": "stdout",
     "output_type": "stream",
     "text": [
      "Each user replied to a tweet an average of 0.023608 times\n"
     ]
    }
   ],
   "source": [
    "avg_replies = num_replies / num_users\n",
    "print(\"Each user replied to a tweet an average of %f times\" % avg_replies)"
   ]
  },
  {
   "cell_type": "code",
   "execution_count": 135,
   "metadata": {},
   "outputs": [
    {
     "data": {
      "text/plain": [
       "<pandas.core.groupby.DataFrameGroupBy object at 0x7f0bf88444e0>"
      ]
     },
     "execution_count": 135,
     "metadata": {},
     "output_type": "execute_result"
    }
   ],
   "source": [
    "df.groupby(by = 'entities_str')"
   ]
  },
  {
   "cell_type": "code",
   "execution_count": null,
   "metadata": {},
   "outputs": [],
   "source": []
  }
 ],
 "metadata": {
  "kernelspec": {
   "display_name": "Python 3",
   "language": "python",
   "name": "python3"
  },
  "language_info": {
   "codemirror_mode": {
    "name": "ipython",
    "version": 3
   },
   "file_extension": ".py",
   "mimetype": "text/x-python",
   "name": "python",
   "nbconvert_exporter": "python",
   "pygments_lexer": "ipython3",
   "version": "3.6.5"
  }
 },
 "nbformat": 4,
 "nbformat_minor": 1
}
